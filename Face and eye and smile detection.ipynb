{
 "cells": [
  {
   "cell_type": "code",
   "execution_count": 50,
   "id": "97803f7d",
   "metadata": {},
   "outputs": [],
   "source": [
    "import cv2 \n",
    "face_cascade = cv2.CascadeClassifier(cv2.data.haarcascades + 'haarcascade_frontalface_default.xml')\n",
    "eye_cascade = cv2.CascadeClassifier(cv2.data.haarcascades + 'haarcascade_eye.xml')\n",
    "smile_cascade = cv2.CascadeClassifier(cv2.data.haarcascades + 'haarcascade_smile.xml')\n",
    "cap = cv2.VideoCapture(0)\n",
    "while cap.isOpened():\n",
    "    _,img = cap.read()\n",
    "    gray = cv2.cvtColor(img,cv2.COLOR_BGR2GRAY)\n",
    "    faces = face_cascade.detectMultiScale(gray,1.1,5)\n",
    "    for x,y,w,h in faces :\n",
    "        cv2.rectangle(img,(x,y),(x+w,y+h),(255,255,0),3)\n",
    "        cv2.putText(img,\"Face\",(x+75,y-15),cv2.FONT_HERSHEY_COMPLEX,1,(255,0,255),3)\n",
    "        eyes = eye_cascade.detectMultiScale(gray,2.2,5)\n",
    "        for x1,y1,w1,h1 in eyes:\n",
    "            cv2.rectangle(img,(x1,y1),(x1+w1,y1+h1),(255,255,0),2)\n",
    "            cv2.putText(img,\"Eye\",(x1,y1-6),cv2.FONT_HERSHEY_COMPLEX,.6,(255,0,255),1)\n",
    "        smiles = smile_cascade.detectMultiScale(gray,3.8,9)\n",
    "        for x2,y2,w2,h2 in smiles : \n",
    "            cv2.rectangle(img,(x2,y2),(x2+w2,y2+h2),(255,255,0),2)\n",
    "            cv2.putText(img,\"smile\",(x2+50,y2-6),cv2.FONT_HERSHEY_COMPLEX,.6,(255,0,255),1)\n",
    "    k=cv2.waitKey(1)\n",
    "    cv2.imshow(\"face,eye,smile detection\",img)\n",
    "    if k==ord('q'):\n",
    "        break\n",
    "cap.release()\n",
    "cv2.destroyAllWindows()"
   ]
  },
  {
   "cell_type": "code",
   "execution_count": null,
   "id": "c5e4821d",
   "metadata": {},
   "outputs": [],
   "source": []
  }
 ],
 "metadata": {
  "kernelspec": {
   "display_name": "Python 3 (ipykernel)",
   "language": "python",
   "name": "python3"
  },
  "language_info": {
   "codemirror_mode": {
    "name": "ipython",
    "version": 3
   },
   "file_extension": ".py",
   "mimetype": "text/x-python",
   "name": "python",
   "nbconvert_exporter": "python",
   "pygments_lexer": "ipython3",
   "version": "3.9.12"
  }
 },
 "nbformat": 4,
 "nbformat_minor": 5
}
